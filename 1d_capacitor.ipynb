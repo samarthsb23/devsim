{
 "cells": [
  {
   "cell_type": "code",
   "execution_count": 2,
   "id": "2f95a91e-edbe-4909-aa6c-6d49e8971085",
   "metadata": {},
   "outputs": [],
   "source": [
    "import devsim\n",
    "import numpy\n",
    "import matplotlib"
   ]
  },
  {
   "cell_type": "code",
   "execution_count": 3,
   "id": "ac5d1592-1dca-4d05-aa3d-d9a3e6065171",
   "metadata": {},
   "outputs": [],
   "source": [
    "import devsim.python_packages"
   ]
  },
  {
   "cell_type": "code",
   "execution_count": 4,
   "id": "6fd0bd65-092a-4ccd-bc52-60c7b3f90446",
   "metadata": {},
   "outputs": [
    {
     "name": "stdout",
     "output_type": "stream",
     "text": [
      "Resetting DEVSIM\n"
     ]
    }
   ],
   "source": [
    "from devsim import *\n",
    "devsim.reset_devsim()"
   ]
  },
  {
   "cell_type": "code",
   "execution_count": 5,
   "id": "ac64182a-d094-4f41-a76e-b6c230c1c188",
   "metadata": {},
   "outputs": [
    {
     "name": "stdout",
     "output_type": "stream",
     "text": [
      "info\n"
     ]
    }
   ],
   "source": [
    "devsim.set_parameter(name=\"debug_level\",value = \"info\")\n",
    "print(devsim.get_parameter(name=\"debug_level\"))"
   ]
  },
  {
   "cell_type": "code",
   "execution_count": 6,
   "id": "6cb321a6-4e33-4568-b45b-b0effc62ae3f",
   "metadata": {},
   "outputs": [],
   "source": [
    "#1D Capacitor\n",
    "devsim.create_1d_mesh(mesh=\"cap_mesh\")\n",
    "devsim.add_1d_mesh_line(mesh=\"cap_mesh\", pos=0.0, ps=0.1, tag=\"top\") #top plate of capacitor\n",
    "devsim.add_1d_mesh_line(mesh=\"cap_mesh\", pos=1.0, ps=0.1, tag=\"bottom\") #bottom plate of capacitor\n",
    "#these lines add points to the cap_mesh, cap_mesh is the entire capacitor while top, bottom are the two points"
   ]
  },
  {
   "cell_type": "code",
   "execution_count": 7,
   "id": "c46d7521-312e-4918-a54e-e145ea43066b",
   "metadata": {},
   "outputs": [],
   "source": [
    "#Now we create regions within the capacitor\n",
    "devsim.add_1d_region(mesh=\"cap_mesh\", material=\"Si\", region=\"cap_region\",tag1=\"top\", tag2=\"bottom\")"
   ]
  },
  {
   "cell_type": "code",
   "execution_count": 8,
   "id": "38573102-2d40-4a78-be88-6386f4aa45c7",
   "metadata": {},
   "outputs": [
    {
     "name": "stdout",
     "output_type": "stream",
     "text": [
      "bottom\n",
      " (region: cap_region)\n",
      " (contact: top_contact)\n",
      " (contact: bottom_contact)\n"
     ]
    }
   ],
   "source": [
    "#Now we have to define the contacts (terminals) at both ends\n",
    "devsim.add_1d_contact(mesh=\"cap_mesh\", name=\"top_contact\", tag=\"top\", material=\"metal\")\n",
    "devsim.add_1d_contact(mesh=\"cap_mesh\", name=\"bottom_contact\", tag=\"bottom\", material=\"metal\")\n",
    "#material of contact is not semiconductor, it is metal\n",
    "\n",
    "devsim.finalize_mesh(mesh=\"cap_mesh\")"
   ]
  },
  {
   "cell_type": "code",
   "execution_count": 9,
   "id": "22af547d-eddd-4436-ac7f-e949f68708ae",
   "metadata": {},
   "outputs": [
    {
     "name": "stdout",
     "output_type": "stream",
     "text": [
      "Capacitor created successfully\n"
     ]
    }
   ],
   "source": [
    "#convert the mesh to a devsim device. before this the mesh has to be finalised\n",
    "devsim.create_device(mesh=\"cap_mesh\", device=\"cap_device\")\n",
    "print(\"Capacitor created successfully\")"
   ]
  },
  {
   "cell_type": "code",
   "execution_count": 10,
   "id": "cda7bee3-f734-46a7-8138-8ef6bcd7b741",
   "metadata": {},
   "outputs": [
    {
     "data": {
      "text/plain": [
       "'V'"
      ]
     },
     "execution_count": 10,
     "metadata": {},
     "output_type": "execute_result"
    }
   ],
   "source": [
    "#Defining the electric potential\n",
    "devsim.node_model(\n",
    "    device = \"cap_device\",\n",
    "    region = \"cap_region\",\n",
    "    name = \"Potential\",\n",
    "    equation = \"V\"\n",
    ")\n",
    "#devsim creates variables for each 'node' i.e. 'point'. stores potential at each of these points. later when we will add equations, we will modify these\n",
    "#variables accordingly"
   ]
  },
  {
   "cell_type": "code",
   "execution_count": 11,
   "id": "4ed40f34-ebbd-4dd0-aacc-a431385759c7",
   "metadata": {},
   "outputs": [],
   "source": [
    "#Now we will plug in properties of the material like permittivity\n",
    "devsim.set_parameter(device=\"cap_device\", region=\"cap_region\", name=\"Permittivity\", value = 3.9*8.85e-14) #value for SiO2"
   ]
  },
  {
   "cell_type": "code",
   "execution_count": 12,
   "id": "b5ee0512-f218-4eab-a620-ee054c2ddd46",
   "metadata": {},
   "outputs": [
    {
     "name": "stdout",
     "output_type": "stream",
     "text": [
      "Replacing Node Model Potential in region cap_region of material Si\n"
     ]
    }
   ],
   "source": [
    "#Now we want to actually solve the Poisson equations to obtain the correct voltages\n",
    "#First create solution variable\n",
    "\n",
    "node_solution(device = \"cap_device\", region=\"cap_region\", name = \"Potential\")"
   ]
  },
  {
   "cell_type": "code",
   "execution_count": 13,
   "id": "1890e91c-0e38-44dd-b1d7-e9fc19c692f9",
   "metadata": {},
   "outputs": [],
   "source": [
    "#We have nodes and edges\n",
    "#Node model- used for calculating values at ONE point\n",
    "#Edge model- used for calculating difference"
   ]
  },
  {
   "cell_type": "code",
   "execution_count": 14,
   "id": "36eb95e9-7001-4e3d-b203-311c6413f58a",
   "metadata": {},
   "outputs": [],
   "source": [
    "edge_from_node_model(device= \"cap_device\", region = \"cap_region\", node_model= \"Potential\")"
   ]
  },
  {
   "cell_type": "code",
   "execution_count": 15,
   "id": "45dd8db9-6502-4c36-a363-52b9831529c7",
   "metadata": {},
   "outputs": [],
   "source": [
    "#The above line creates an edge model from the potentials, i.e. creates Potential@n0 and Potential@n1 as edge model"
   ]
  },
  {
   "cell_type": "code",
   "execution_count": 16,
   "id": "1be062ce-1c36-43d3-9fb2-82938e4d0625",
   "metadata": {},
   "outputs": [
    {
     "data": {
      "text/plain": [
       "'((Potential@n0 - Potential@n1) * EdgeInverseLength)'"
      ]
     },
     "execution_count": 16,
     "metadata": {},
     "output_type": "execute_result"
    }
   ],
   "source": [
    "#Compute Electric Field\n",
    "edge_model(device= \"cap_device\", region = \"cap_region\", name=\"ElectricField\",\n",
    "equation=\"(Potential@n0 - Potential@n1)*EdgeInverseLength\")\n",
    "\n",
    "#E = deltaV/d"
   ]
  },
  {
   "cell_type": "code",
   "execution_count": 17,
   "id": "88969f1d-d173-4261-af8a-dccf17565426",
   "metadata": {},
   "outputs": [
    {
     "data": {
      "text/plain": [
       "'(-EdgeInverseLength)'"
      ]
     },
     "execution_count": 17,
     "metadata": {},
     "output_type": "execute_result"
    }
   ],
   "source": [
    "#Now computing the derivatives of the electric field\n",
    "edge_model(device= \"cap_device\", region = \"cap_region\", name=\"ElectricField:Potential@n0\", #this kind of name defines partial derivatives\n",
    "equation=\"EdgeInverseLength\")\n",
    "\n",
    "edge_model(device= \"cap_device\", region = \"cap_region\", name=\"ElectricField:Potential@n1\",\n",
    "equation=\"-EdgeInverseLength\")"
   ]
  },
  {
   "cell_type": "code",
   "execution_count": 18,
   "id": "967bef35-fbd5-40d8-9816-b179605b516e",
   "metadata": {},
   "outputs": [
    {
     "data": {
      "text/plain": [
       "'(Permittivity * ElectricField)'"
      ]
     },
     "execution_count": 18,
     "metadata": {},
     "output_type": "execute_result"
    }
   ],
   "source": [
    "#Create displacement field\n",
    "edge_model(device= \"cap_device\", region = \"cap_region\", name = \"DField\", equation = \"Permittivity*ElectricField\")"
   ]
  },
  {
   "cell_type": "code",
   "execution_count": 19,
   "id": "9a317770-f14b-4cc8-8d07-66c6ea3ad311",
   "metadata": {},
   "outputs": [
    {
     "data": {
      "text/plain": [
       "'(-DField:Potential@n0)'"
      ]
     },
     "execution_count": 19,
     "metadata": {},
     "output_type": "execute_result"
    }
   ],
   "source": [
    "#Compute derivatives of D_field\n",
    "edge_model(device = \"cap_device\", region = \"cap_region\", name = \"DField:Potential@n0\", equation = \"diff(Permittivity*ElectricField, Potential@n0)\")\n",
    "edge_model(device = \"cap_device\", region = \"cap_region\", name = \"DField:Potential@n1\", equation = \"-DField:Potential@n0\")"
   ]
  },
  {
   "cell_type": "code",
   "execution_count": 20,
   "id": "69ab4dab-ff46-424e-8ca8-af66d8830995",
   "metadata": {},
   "outputs": [],
   "source": [
    "device = \"cap_device\"\n",
    "region = \"cap_region\"\n",
    "\n",
    "#Defining the bulk equation, in case Poisson equation\n",
    "equation(device=device, region=region, name=\"PotentialEquation\",\n",
    "variable_name=\"Potential\", edge_model=\"DField\",\n",
    "variable_update=\"default\")"
   ]
  },
  {
   "cell_type": "code",
   "execution_count": 21,
   "id": "5201f51a-007e-41f4-a570-463451b0f6c6",
   "metadata": {},
   "outputs": [],
   "source": [
    "#Defining contact boundary conditions\n",
    "for c in (\"top_contact\", \"bottom_contact\"):\n",
    "    contact_node_model(device=device, contact=c, name=\"%s_bc\" % c, equation=\"Potential - %s_bias\" % c)\n",
    "    \n",
    "\n",
    "    contact_node_model(device=device, contact=c, name=\"%s_bc:Potential\" % c,equation=\"1\")\n",
    "    \n",
    "    \n",
    "    contact_equation(device=device, contact=c, name=\"PotentialEquation\", node_model=\"%s_bc\" % c, edge_charge_model=\"DField\")\n",
    "    "
   ]
  },
  {
   "cell_type": "code",
   "execution_count": 22,
   "id": "eaa74d24-c62c-41ec-9352-5443c3a756c9",
   "metadata": {},
   "outputs": [],
   "source": [
    "#Setting boundary conditions at the contacts\n",
    "set_parameter(device=device, region=region, name=\"bottom_contact_bias\", value=1.0e-0)\n",
    "set_parameter(device=device, region=region, name=\"top_contact_bias\", value=0.0)"
   ]
  },
  {
   "cell_type": "code",
   "execution_count": 23,
   "id": "37d99aea-624c-47a9-b5fc-70f7765b95e4",
   "metadata": {},
   "outputs": [
    {
     "name": "stdout",
     "output_type": "stream",
     "text": [
      "number of equations 11\n",
      "Iteration: 0\n",
      "  Device: \"cap_device\"\tRelError: 1.00000e+00\tAbsError: 1.00000e+00\n",
      "    Region: \"cap_region\"\tRelError: 1.00000e+00\tAbsError: 1.00000e+00\n",
      "      Equation: \"PotentialEquation\"\tRelError: 1.00000e+00\tAbsError: 1.00000e+00\n",
      "Iteration: 1\n",
      "  Device: \"cap_device\"\tRelError: 2.63296e-16\tAbsError: 1.14095e-16\n",
      "    Region: \"cap_region\"\tRelError: 2.63296e-16\tAbsError: 1.14095e-16\n",
      "      Equation: \"PotentialEquation\"\tRelError: 2.63296e-16\tAbsError: 1.14095e-16\n"
     ]
    }
   ],
   "source": [
    "#Solve the system\n",
    "solve(type=\"dc\", absolute_error=1.0, relative_error=1e-10, maximum_iterations=30)"
   ]
  },
  {
   "cell_type": "code",
   "execution_count": 24,
   "id": "a195bd74-26b6-47e0-9b8c-ad3c050efbf0",
   "metadata": {},
   "outputs": [
    {
     "name": "stdout",
     "output_type": "stream",
     "text": [
      "contact: top_contact charge: -3.45150e-13\n",
      "contact: bottom_contact charge: 3.45150e-13\n"
     ]
    }
   ],
   "source": [
    "#Now let us print the charges on the contacts\n",
    "for c in (\"top_contact\", \"bottom_contact\"):\n",
    "    print(\"contact: %s charge: %1.5e\" % (c, get_contact_charge(device = device, contact = c, equation = \"PotentialEquation\")))"
   ]
  },
  {
   "cell_type": "code",
   "execution_count": 25,
   "id": "76a23f1a-57f1-4005-9b79-5821f09c88e0",
   "metadata": {},
   "outputs": [],
   "source": [
    "import matplotlib.pyplot as plt"
   ]
  },
  {
   "cell_type": "code",
   "execution_count": 26,
   "id": "00d87f89-f650-4a16-a41b-bffe798e0192",
   "metadata": {},
   "outputs": [
    {
     "data": {
      "image/png": "[encoded data removed]",
      "text/plain": [
       "<Figure size 640x480 with 1 Axes>"
      ]
     },
     "metadata": {},
     "output_type": "display_data"
    }
   ],
   "source": [
    "#Potential vs position\n",
    "# Get node positions\n",
    "node_positions = devsim.get_node_model_values(device=\"cap_device\", region=\"cap_region\", name=\"x\")\n",
    "\n",
    "# Get potential values\n",
    "potential_values = devsim.get_node_model_values(device=\"cap_device\", region=\"cap_region\", name=\"Potential\")\n",
    "\n",
    "# Plot Potential vs. Position\n",
    "plt.plot(node_positions, potential_values, marker=\"o\", linestyle=\"-\", label=\"Potential\")\n",
    "plt.xlabel(\"Position (cm)\")\n",
    "plt.ylabel(\"Voltage (V)\")\n",
    "plt.title(\"Potential Distribution in Capacitor\")\n",
    "plt.legend()\n",
    "plt.grid(True)\n",
    "plt.show()"
   ]
  },
  {
   "cell_type": "code",
   "execution_count": 27,
   "id": "6737d895-1bce-4216-b9f1-cfca0d50b19e",
   "metadata": {},
   "outputs": [
    {
     "data": {
      "image/png": "[encoded data removed]",
      "text/plain": [
       "<Figure size 640x480 with 1 Axes>"
      ]
     },
     "metadata": {},
     "output_type": "display_data"
    }
   ],
   "source": [
    "#Electric field vs position\n",
    "# Get Electric Field values\n",
    "electric_field = devsim.get_edge_model_values(device=\"cap_device\", region=\"cap_region\", name=\"ElectricField\")\n",
    "\n",
    "# Get edge positions (midpoints between nodes)\n",
    "edge_positions = [(node_positions[i] + node_positions[i+1]) / 2 for i in range(len(node_positions)-1)]\n",
    "\n",
    "# Plot Electric Field vs. Position\n",
    "plt.plot(edge_positions, electric_field, marker=\"s\", linestyle=\"-\", label=\"Electric Field\")\n",
    "plt.xlabel(\"Position (cm)\")\n",
    "plt.ylabel(\"Electric Field (V/cm)\")\n",
    "plt.title(\"Electric Field Distribution in Capacitor\")\n",
    "plt.legend()\n",
    "plt.grid(True)\n",
    "plt.show()"
   ]
  },
  {
   "cell_type": "code",
   "execution_count": null,
   "id": "98c03a78-e628-4500-808a-402fc384cfc4",
   "metadata": {},
   "outputs": [],
   "source": []
  }
 ],
 "metadata": {
  "kernelspec": {
   "display_name": "Python 3 (ipykernel)",
   "language": "python",
   "name": "python3"
  },
  "language_info": {
   "codemirror_mode": {
    "name": "ipython",
    "version": 3
   },
   "file_extension": ".py",
   "mimetype": "text/x-python",
   "name": "python",
   "nbconvert_exporter": "python",
   "pygments_lexer": "ipython3",
   "version": "3.12.7"
  }
 },
 "nbformat": 4,
 "nbformat_minor": 5
}
